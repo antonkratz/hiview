{
 "cells": [
  {
   "cell_type": "code",
   "execution_count": 72,
   "metadata": {
    "collapsed": true
   },
   "outputs": [],
   "source": [
    "import requests\n",
    "\n",
    "BASE_URL = 'http://ci-dev-serv.ucsd.edu:3100/v1'"
   ]
  },
  {
   "cell_type": "code",
   "execution_count": 2,
   "metadata": {
    "collapsed": true
   },
   "outputs": [],
   "source": [
    "import json\n",
    "\n",
    "# DAG in test server\n",
    "original_dag = requests.get('http://test.ndexbio.org/v2/network/20bcb48f-3e6b-11e7-baf1-0660b7976219')\n",
    "\n",
    "result = original_dag.json()"
   ]
  },
  {
   "cell_type": "code",
   "execution_count": 3,
   "metadata": {},
   "outputs": [
    {
     "data": {
      "text/plain": [
       "{'ndexStatus': [{'creationTime': 1495401548985,\n",
       "   'edgeCount': 43263,\n",
       "   'externalId': '20bcb48f-3e6b-11e7-baf1-0660b7976219',\n",
       "   'modificationTime': 1495401548985,\n",
       "   'ndexServerURI': 'http://dev2.ndexbio.org',\n",
       "   'nodeCount': 6191,\n",
       "   'owner': 'mikeyu_testacct',\n",
       "   'published': False,\n",
       "   'readOnly': False,\n",
       "   'visibility': 'PRIVATE'}]}"
      ]
     },
     "execution_count": 3,
     "metadata": {},
     "output_type": "execute_result"
    }
   ],
   "source": [
    "result[2]"
   ]
  },
  {
   "cell_type": "code",
   "execution_count": 73,
   "metadata": {},
   "outputs": [
    {
     "name": "stdout",
     "output_type": "stream",
     "text": [
      "1988\n"
     ]
    }
   ],
   "source": [
    "filtered = requests.post(BASE_URL + '/filter/node?name=isRoot&value=True', json=result)\n",
    "root = filtered.json()\n",
    "print(root[0]['@id'])"
   ]
  },
  {
   "cell_type": "code",
   "execution_count": 74,
   "metadata": {},
   "outputs": [
    {
     "data": {
      "text/plain": [
       "1506"
      ]
     },
     "execution_count": 74,
     "metadata": {},
     "output_type": "execute_result"
    }
   ],
   "source": [
    "filtered = requests.post(BASE_URL + '/filter/edge?name=Is_Tree_Edge&value=Tree', json=result)\n",
    "edges = filtered.json()\n",
    "len(edges)"
   ]
  },
  {
   "cell_type": "code",
   "execution_count": 75,
   "metadata": {},
   "outputs": [
    {
     "data": {
      "text/plain": [
       "1507"
      ]
     },
     "execution_count": 75,
     "metadata": {},
     "output_type": "execute_result"
    }
   ],
   "source": [
    "filteredNodes = requests.post(BASE_URL + '/filter/node?name=Gene_or_Term&value=Term', json=result)\n",
    "nodes = filteredNodes.json()\n",
    "len(nodes)"
   ]
  },
  {
   "cell_type": "code",
   "execution_count": 76,
   "metadata": {},
   "outputs": [
    {
     "data": {
      "text/plain": [
       "<Response [200]>"
      ]
     },
     "execution_count": 76,
     "metadata": {},
     "output_type": "execute_result"
    }
   ],
   "source": [
    "tree = requests.post(BASE_URL + '/layouts/cluster/circular?root=' + str(root[0]['@id']), json=edges)\n",
    "tree"
   ]
  },
  {
   "cell_type": "code",
   "execution_count": 59,
   "metadata": {
    "scrolled": true
   },
   "outputs": [],
   "source": [
    "layout = tree.json()"
   ]
  },
  {
   "cell_type": "code",
   "execution_count": 60,
   "metadata": {
    "collapsed": true
   },
   "outputs": [],
   "source": [
    "layout2 = {\n",
    "    'cartesianLayout': layout \n",
    "}"
   ]
  },
  {
   "cell_type": "code",
   "execution_count": 61,
   "metadata": {},
   "outputs": [],
   "source": [
    "new_cx = []\n",
    "\n",
    "for entry in result:\n",
    "    if 'nodes' in entry:\n",
    "        new_cx.append({'nodes': nodes})\n",
    "        new_cx.append(layout2)\n",
    "    elif 'edges' in entry:\n",
    "        new_cx.append({'edges': edges})\n",
    "    else:\n",
    "        new_cx.append(entry)"
   ]
  },
  {
   "cell_type": "code",
   "execution_count": 49,
   "metadata": {},
   "outputs": [],
   "source": [
    "import json\n",
    "with open('newCX.cx', 'w') as outfile:\n",
    "    json.dump(new_cx, outfile)"
   ]
  }
 ],
 "metadata": {
  "kernelspec": {
   "display_name": "Python [conda root]",
   "language": "python",
   "name": "conda-root-py"
  },
  "language_info": {
   "codemirror_mode": {
    "name": "ipython",
    "version": 3
   },
   "file_extension": ".py",
   "mimetype": "text/x-python",
   "name": "python",
   "nbconvert_exporter": "python",
   "pygments_lexer": "ipython3",
   "version": "3.5.3"
  }
 },
 "nbformat": 4,
 "nbformat_minor": 1
}
